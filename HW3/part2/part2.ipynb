{
 "cells": [
  {
   "cell_type": "code",
   "execution_count": 1,
   "metadata": {},
   "outputs": [
    {
     "name": "stdout",
     "output_type": "stream",
     "text": [
      "Defaulting to user installation because normal site-packages is not writeable\n",
      "Requirement already satisfied: gtts in c:\\users\\rahul\\appdata\\local\\packages\\pythonsoftwarefoundation.python.3.12_qbz5n2kfra8p0\\localcache\\local-packages\\python312\\site-packages (2.5.3)\n",
      "Requirement already satisfied: requests<3,>=2.27 in c:\\users\\rahul\\appdata\\local\\packages\\pythonsoftwarefoundation.python.3.12_qbz5n2kfra8p0\\localcache\\local-packages\\python312\\site-packages (from gtts) (2.32.3)\n",
      "Requirement already satisfied: click<8.2,>=7.1 in c:\\users\\rahul\\appdata\\local\\packages\\pythonsoftwarefoundation.python.3.12_qbz5n2kfra8p0\\localcache\\local-packages\\python312\\site-packages (from gtts) (8.1.7)\n",
      "Requirement already satisfied: colorama in c:\\users\\rahul\\appdata\\local\\packages\\pythonsoftwarefoundation.python.3.12_qbz5n2kfra8p0\\localcache\\local-packages\\python312\\site-packages (from click<8.2,>=7.1->gtts) (0.4.6)\n",
      "Requirement already satisfied: charset-normalizer<4,>=2 in c:\\users\\rahul\\appdata\\local\\packages\\pythonsoftwarefoundation.python.3.12_qbz5n2kfra8p0\\localcache\\local-packages\\python312\\site-packages (from requests<3,>=2.27->gtts) (3.3.2)\n",
      "Requirement already satisfied: idna<4,>=2.5 in c:\\users\\rahul\\appdata\\local\\packages\\pythonsoftwarefoundation.python.3.12_qbz5n2kfra8p0\\localcache\\local-packages\\python312\\site-packages (from requests<3,>=2.27->gtts) (3.9)\n",
      "Requirement already satisfied: urllib3<3,>=1.21.1 in c:\\users\\rahul\\appdata\\local\\packages\\pythonsoftwarefoundation.python.3.12_qbz5n2kfra8p0\\localcache\\local-packages\\python312\\site-packages (from requests<3,>=2.27->gtts) (2.2.3)\n",
      "Requirement already satisfied: certifi>=2017.4.17 in c:\\users\\rahul\\appdata\\local\\packages\\pythonsoftwarefoundation.python.3.12_qbz5n2kfra8p0\\localcache\\local-packages\\python312\\site-packages (from requests<3,>=2.27->gtts) (2024.8.30)\n"
     ]
    }
   ],
   "source": [
    "!pip install gtts"
   ]
  },
  {
   "cell_type": "code",
   "execution_count": 2,
   "metadata": {},
   "outputs": [
    {
     "name": "stdout",
     "output_type": "stream",
     "text": [
      "Defaulting to user installation because normal site-packages is not writeable\n",
      "Requirement already satisfied: moviepy in c:\\users\\rahul\\appdata\\local\\packages\\pythonsoftwarefoundation.python.3.12_qbz5n2kfra8p0\\localcache\\local-packages\\python312\\site-packages (1.0.3)\n",
      "Requirement already satisfied: decorator<5.0,>=4.0.2 in c:\\users\\rahul\\appdata\\local\\packages\\pythonsoftwarefoundation.python.3.12_qbz5n2kfra8p0\\localcache\\local-packages\\python312\\site-packages (from moviepy) (4.4.2)\n",
      "Requirement already satisfied: tqdm<5.0,>=4.11.2 in c:\\users\\rahul\\appdata\\local\\packages\\pythonsoftwarefoundation.python.3.12_qbz5n2kfra8p0\\localcache\\local-packages\\python312\\site-packages (from moviepy) (4.66.5)\n",
      "Requirement already satisfied: requests<3.0,>=2.8.1 in c:\\users\\rahul\\appdata\\local\\packages\\pythonsoftwarefoundation.python.3.12_qbz5n2kfra8p0\\localcache\\local-packages\\python312\\site-packages (from moviepy) (2.32.3)\n",
      "Requirement already satisfied: proglog<=1.0.0 in c:\\users\\rahul\\appdata\\local\\packages\\pythonsoftwarefoundation.python.3.12_qbz5n2kfra8p0\\localcache\\local-packages\\python312\\site-packages (from moviepy) (0.1.10)\n",
      "Requirement already satisfied: numpy>=1.17.3 in c:\\users\\rahul\\appdata\\local\\packages\\pythonsoftwarefoundation.python.3.12_qbz5n2kfra8p0\\localcache\\local-packages\\python312\\site-packages (from moviepy) (2.1.1)\n",
      "Requirement already satisfied: imageio<3.0,>=2.5 in c:\\users\\rahul\\appdata\\local\\packages\\pythonsoftwarefoundation.python.3.12_qbz5n2kfra8p0\\localcache\\local-packages\\python312\\site-packages (from moviepy) (2.35.1)\n",
      "Requirement already satisfied: imageio-ffmpeg>=0.2.0 in c:\\users\\rahul\\appdata\\local\\packages\\pythonsoftwarefoundation.python.3.12_qbz5n2kfra8p0\\localcache\\local-packages\\python312\\site-packages (from moviepy) (0.5.1)\n",
      "Requirement already satisfied: pillow>=8.3.2 in c:\\users\\rahul\\appdata\\local\\packages\\pythonsoftwarefoundation.python.3.12_qbz5n2kfra8p0\\localcache\\local-packages\\python312\\site-packages (from imageio<3.0,>=2.5->moviepy) (10.4.0)\n",
      "Requirement already satisfied: setuptools in c:\\users\\rahul\\appdata\\local\\packages\\pythonsoftwarefoundation.python.3.12_qbz5n2kfra8p0\\localcache\\local-packages\\python312\\site-packages (from imageio-ffmpeg>=0.2.0->moviepy) (74.1.2)\n",
      "Requirement already satisfied: charset-normalizer<4,>=2 in c:\\users\\rahul\\appdata\\local\\packages\\pythonsoftwarefoundation.python.3.12_qbz5n2kfra8p0\\localcache\\local-packages\\python312\\site-packages (from requests<3.0,>=2.8.1->moviepy) (3.3.2)\n",
      "Requirement already satisfied: idna<4,>=2.5 in c:\\users\\rahul\\appdata\\local\\packages\\pythonsoftwarefoundation.python.3.12_qbz5n2kfra8p0\\localcache\\local-packages\\python312\\site-packages (from requests<3.0,>=2.8.1->moviepy) (3.9)\n",
      "Requirement already satisfied: urllib3<3,>=1.21.1 in c:\\users\\rahul\\appdata\\local\\packages\\pythonsoftwarefoundation.python.3.12_qbz5n2kfra8p0\\localcache\\local-packages\\python312\\site-packages (from requests<3.0,>=2.8.1->moviepy) (2.2.3)\n",
      "Requirement already satisfied: certifi>=2017.4.17 in c:\\users\\rahul\\appdata\\local\\packages\\pythonsoftwarefoundation.python.3.12_qbz5n2kfra8p0\\localcache\\local-packages\\python312\\site-packages (from requests<3.0,>=2.8.1->moviepy) (2024.8.30)\n",
      "Requirement already satisfied: colorama in c:\\users\\rahul\\appdata\\local\\packages\\pythonsoftwarefoundation.python.3.12_qbz5n2kfra8p0\\localcache\\local-packages\\python312\\site-packages (from tqdm<5.0,>=4.11.2->moviepy) (0.4.6)\n"
     ]
    }
   ],
   "source": [
    "!pip install moviepy"
   ]
  },
  {
   "cell_type": "code",
   "execution_count": 16,
   "metadata": {},
   "outputs": [
    {
     "name": "stdout",
     "output_type": "stream",
     "text": [
      "Moviepy - Building video ./Application_of_Deep_Learning_Course_With_Caption.mp4.\n",
      "MoviePy - Writing audio in Application_of_Deep_Learning_Course_With_CaptionTEMP_MPY_wvf_snd.mp3\n"
     ]
    },
    {
     "name": "stderr",
     "output_type": "stream",
     "text": [
      "                                                                      \r"
     ]
    },
    {
     "name": "stdout",
     "output_type": "stream",
     "text": [
      "MoviePy - Done.\n",
      "Moviepy - Writing video ./Application_of_Deep_Learning_Course_With_Caption.mp4\n",
      "\n"
     ]
    },
    {
     "name": "stderr",
     "output_type": "stream",
     "text": [
      "                                                                \r"
     ]
    },
    {
     "name": "stdout",
     "output_type": "stream",
     "text": [
      "Moviepy - Done !\n",
      "Moviepy - video ready ./Application_of_Deep_Learning_Course_With_Caption.mp4\n"
     ]
    },
    {
     "data": {
      "text/plain": [
       "'./Application_of_Deep_Learning_Course_With_Caption.mp4'"
      ]
     },
     "execution_count": 16,
     "metadata": {},
     "output_type": "execute_result"
    }
   ],
   "source": [
    "import moviepy.editor as mp\n",
    "from PIL import Image, ImageDraw, ImageFont\n",
    "import numpy as np\n",
    "import textwrap\n",
    "\n",
    "# Load the video file directly\n",
    "video = mp.VideoFileClip(\"Application_of_Deep_Learning_Course.mp4\")\n",
    "\n",
    "# Corresponding voiceover text for each section of the video\n",
    "voiceover_texts = [\n",
    "    \"In a world of heroes, they rise to face the ultimate challenges. From the genius of Tony Stark, the courage of Captain America, to the thunder of Thor and the unstoppable force of the Hulk—these are the Avengers!\",\n",
    "    \"Together, they unite to protect Earth from unimaginable threats, forging bonds of friendship, loyalty, and strength.\",\n",
    "    \"With Black Widow's precision and Hawkeye's unmatched aim, they stand as Earth's mightiest heroes.\",\n",
    "    \"In every battle, they remind us that even in the darkest moments, we can always find hope. Avengers... Assemble!\",\n",
    "    \"Through countless battles, they have become more than just a team—they have become a family, protecting not just the world, but each other.\"\n",
    "]\n",
    "\n",
    "# Define start and end times (in seconds) for when each caption should appear\n",
    "captions = [\n",
    "    (0, 18, voiceover_texts[0]),  # First caption from 0s to 18s\n",
    "    (18, 28, voiceover_texts[1]), # Second caption from 18s to 28s\n",
    "    (28, 38, voiceover_texts[2]), # Third caption from 28s to 38s\n",
    "    (38, 48, voiceover_texts[3]), # Fourth caption from 38s to 48s\n",
    "    (48, 58, voiceover_texts[4])  # Fifth caption from 48s to 58s\n",
    "]\n",
    "\n",
    "def create_text_image(text, size=(1920, 150), fontsize=80, line_width=70):  # Added line_width\n",
    "    # Create an image with transparent background\n",
    "    img = Image.new('RGBA', size, (0, 0, 0, 0))\n",
    "    draw = ImageDraw.Draw(img)\n",
    "    \n",
    "    # Load a font from the local machine (Arial in this case)\n",
    "    try:\n",
    "        font = ImageFont.truetype(\"C:/Windows/Fonts/Arial.ttf\", fontsize)  # Change the path to your font file\n",
    "    except IOError:\n",
    "        print(\"Font file not found. Falling back to default font.\")\n",
    "        font = ImageFont.load_default()\n",
    "\n",
    "    # Wrap the text to fit within the specified width\n",
    "    max_width = size[0] - 40  # Set some padding for left and right margins\n",
    "    wrapped_text = textwrap.fill(text, width=line_width)  # Use line_width to control how many characters per line\n",
    "\n",
    "    # Calculate the total height of the text block\n",
    "    lines = wrapped_text.split('\\n')\n",
    "    line_height = draw.textbbox((0, 0), lines[0], font=font)[3] - draw.textbbox((0, 0), lines[0], font=font)[1]\n",
    "    text_height = line_height * len(lines)\n",
    "\n",
    "    # Position the text in the center (with respect to height)\n",
    "    y_position = (size[1] - text_height) // 2\n",
    "\n",
    "    # Draw each line of text\n",
    "    for line in lines:\n",
    "        text_width = draw.textbbox((0, 0), line, font=font)[2] - draw.textbbox((0, 0), line, font=font)[0]\n",
    "        x_position = (size[0] - text_width) // 2\n",
    "        draw.text((x_position, y_position), line, font=font, fill=\"white\")\n",
    "        y_position += line_height\n",
    "\n",
    "    # Convert the image to an array\n",
    "    return np.array(img)\n",
    "\n",
    "# Create a list to store the text clips\n",
    "text_clips = []\n",
    "\n",
    "# Create captions as ImageClip and set them to appear at the correct times\n",
    "for start_time, end_time, text in captions:\n",
    "    img = create_text_image(text, fontsize=25)  # Increase fontsize here\n",
    "    caption_clip = mp.ImageClip(img).set_position(('center', 'bottom')).set_start(start_time).set_duration(end_time - start_time)\n",
    "    text_clips.append(caption_clip)\n",
    "\n",
    "# Overlay the text clips on top of the original video\n",
    "final_video = mp.CompositeVideoClip([video] + text_clips)\n",
    "\n",
    "# Write the final video to a file\n",
    "output_file_path = \"./Application_of_Deep_Learning_Course_With_Caption.mp4\"\n",
    "final_video.write_videofile(output_file_path, codec='libx264', fps=24)\n",
    "\n",
    "output_file_path\n"
   ]
  }
 ],
 "metadata": {
  "kernelspec": {
   "display_name": "Python 3",
   "language": "python",
   "name": "python3"
  },
  "language_info": {
   "codemirror_mode": {
    "name": "ipython",
    "version": 3
   },
   "file_extension": ".py",
   "mimetype": "text/x-python",
   "name": "python",
   "nbconvert_exporter": "python",
   "pygments_lexer": "ipython3",
   "version": "3.12.6"
  }
 },
 "nbformat": 4,
 "nbformat_minor": 2
}
